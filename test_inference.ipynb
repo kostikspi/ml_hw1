{
 "cells": [
  {
   "cell_type": "code",
   "execution_count": 5,
   "id": "a7a134756c43442c",
   "metadata": {
    "collapsed": true,
    "ExecuteTime": {
     "end_time": "2024-12-10T20:54:07.323649Z",
     "start_time": "2024-12-10T20:54:07.256154Z"
    }
   },
   "outputs": [
    {
     "name": "stdout",
     "output_type": "stream",
     "text": [
      "Prediction for single item: 475079.0788152814\n"
     ]
    }
   ],
   "source": [
    "import requests\n",
    "\n",
    "BASE_URL = \"http://0.0.0.0:8000\"\n",
    "\n",
    "item_data = {\n",
    "    \"name\": \"Maruti Swift Dzire VDI\",\n",
    "    \"year\": 2014,\n",
    "    \"km_driven\": 145500,\n",
    "    \"fuel\": \"Diesel\",\n",
    "    \"seller_type\": \"Individual\",\n",
    "    \"transmission\": \"Manual\",\n",
    "    \"owner\": \"First Owner\",\n",
    "    \"mileage\": \"23.4 kmpl\",\n",
    "    \"engine\": \"1248 CC\",\n",
    "    \"max_power\": \"74 bhp\",\n",
    "    \"torque\": \"190 Nm @ 2000 rpm\",\n",
    "    \"seats\": 5.0\n",
    "}\n",
    "\n",
    "response_item = requests.post(f\"{BASE_URL}/predict_item\", json=item_data)\n",
    "\n",
    "if response_item.status_code == 200:\n",
    "    print(\"Prediction for single item:\", response_item.json())\n",
    "else:\n",
    "    print(\"Error in predict_item:\", response_item.status_code, response_item.text)"
   ]
  },
  {
   "cell_type": "code",
   "execution_count": 2,
   "outputs": [
    {
     "name": "stdout",
     "output_type": "stream",
     "text": [
      "Defaulting to user installation because normal site-packages is not writeable\r\n",
      "Requirement already satisfied: scikit-learn in /Users/kostiks/Library/Python/3.9/lib/python/site-packages (1.3.2)\r\n",
      "Collecting scikit-learn\r\n",
      "  Downloading scikit_learn-1.6.0-cp39-cp39-macosx_12_0_arm64.whl (11.1 MB)\r\n",
      "\u001B[K     |████████████████████████████████| 11.1 MB 21.6 MB/s eta 0:00:01\r\n",
      "\u001B[?25hRequirement already satisfied: numpy>=1.19.5 in /Users/kostiks/Library/Python/3.9/lib/python/site-packages (from scikit-learn) (1.23.1)\r\n",
      "Requirement already satisfied: scipy>=1.6.0 in /Users/kostiks/Library/Python/3.9/lib/python/site-packages (from scikit-learn) (1.8.1)\r\n",
      "Requirement already satisfied: threadpoolctl>=3.1.0 in /Users/kostiks/Library/Python/3.9/lib/python/site-packages (from scikit-learn) (3.2.0)\r\n",
      "Requirement already satisfied: joblib>=1.2.0 in /Users/kostiks/Library/Python/3.9/lib/python/site-packages (from scikit-learn) (1.3.2)\r\n",
      "Installing collected packages: scikit-learn\r\n",
      "  Attempting uninstall: scikit-learn\r\n",
      "    Found existing installation: scikit-learn 1.3.2\r\n",
      "    Uninstalling scikit-learn-1.3.2:\r\n",
      "      Successfully uninstalled scikit-learn-1.3.2\r\n",
      "Successfully installed scikit-learn-1.6.0\r\n",
      "\u001B[33mWARNING: You are using pip version 21.2.4; however, version 24.3.1 is available.\r\n",
      "You should consider upgrading via the '/Applications/Xcode.app/Contents/Developer/usr/bin/python3 -m pip install --upgrade pip' command.\u001B[0m\r\n"
     ]
    }
   ],
   "source": [
    "!pip3 install --upgrade scikit-learn"
   ],
   "metadata": {
    "collapsed": false,
    "ExecuteTime": {
     "end_time": "2024-12-10T20:46:01.451902Z",
     "start_time": "2024-12-10T20:45:42.092252Z"
    }
   },
   "id": "8ebd9ba2dcc9a50"
  },
  {
   "cell_type": "code",
   "execution_count": 6,
   "outputs": [
    {
     "name": "stdout",
     "output_type": "stream",
     "text": [
      "Predictions for multiple items: [475079.0788152814, 325353.51438836753]\n"
     ]
    }
   ],
   "source": [
    "items_data = {\n",
    "    \"objects\": [\n",
    "        {\n",
    "            \"name\": \"Maruti Swift Dzire VDI\",\n",
    "            \"year\": 2014,\n",
    "            \"km_driven\": 145500,\n",
    "            \"fuel\": \"Diesel\",\n",
    "            \"seller_type\": \"Individual\",\n",
    "            \"transmission\": \"Manual\",\n",
    "            \"owner\": \"First Owner\",\n",
    "            \"mileage\": \"23.4 kmpl\",\n",
    "            \"engine\": \"1248 CC\",\n",
    "            \"max_power\": \"74 bhp\",\n",
    "            \"torque\": \"190 Nm @ 2000 rpm\",\n",
    "            \"seats\": 5.0\n",
    "        },\n",
    "        {\n",
    "            \"name\": \"Hyundai i20 Magna\",\n",
    "            \"year\": 2012,\n",
    "            \"km_driven\": 70000,\n",
    "            \"fuel\": \"Petrol\",\n",
    "            \"seller_type\": \"Dealer\",\n",
    "            \"transmission\": \"Manual\",\n",
    "            \"owner\": \"Second Owner\",\n",
    "            \"mileage\": \"18.6 kmpl\",\n",
    "            \"engine\": \"1197 CC\",\n",
    "            \"max_power\": \"82 bhp\",\n",
    "            \"torque\": \"114 Nm @ 4000 rpm\",\n",
    "            \"seats\": 5.0\n",
    "        }\n",
    "    ]\n",
    "}\n",
    "\n",
    "response_items = requests.post(f\"{BASE_URL}/predict_items\", json=items_data)\n",
    "\n",
    "if response_items.status_code == 200:\n",
    "    print(\"Predictions for multiple items:\", response_items.json())\n",
    "else:\n",
    "    print(\"Error in predict_items:\", response_items.status_code, response_items.text)\n"
   ],
   "metadata": {
    "collapsed": false,
    "ExecuteTime": {
     "end_time": "2024-12-10T20:54:14.520070Z",
     "start_time": "2024-12-10T20:54:14.469581Z"
    }
   },
   "id": "initial_id"
  }
 ],
 "metadata": {
  "kernelspec": {
   "display_name": "Python 3",
   "language": "python",
   "name": "python3"
  },
  "language_info": {
   "codemirror_mode": {
    "name": "ipython",
    "version": 2
   },
   "file_extension": ".py",
   "mimetype": "text/x-python",
   "name": "python",
   "nbconvert_exporter": "python",
   "pygments_lexer": "ipython2",
   "version": "2.7.6"
  }
 },
 "nbformat": 4,
 "nbformat_minor": 5
}
